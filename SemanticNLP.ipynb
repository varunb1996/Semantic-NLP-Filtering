{
 "cells": [
  {
   "cell_type": "markdown",
   "id": "7cb5d2ea-6237-4719-a667-28c5a155b5ad",
   "metadata": {},
   "source": [
    "Step 1: Heuristic-Based Filtering with Regular Expressions"
   ]
  },
  {
   "cell_type": "code",
   "execution_count": 3,
   "id": "621e3768-9735-461c-823c-f2f92aadd7aa",
   "metadata": {},
   "outputs": [
    {
     "name": "stderr",
     "output_type": "stream",
     "text": [
      "C:\\Users\\varun\\AppData\\Local\\Temp\\ipykernel_7708\\182965791.py:13: UserWarning: This pattern is interpreted as a regular expression, and has match groups. To actually get the groups, use str.extract.\n",
      "  data['Abstract'].fillna(\"\").str.contains(deep_learning_keywords, flags=re.IGNORECASE) &\n",
      "C:\\Users\\varun\\AppData\\Local\\Temp\\ipykernel_7708\\182965791.py:14: UserWarning: This pattern is interpreted as a regular expression, and has match groups. To actually get the groups, use str.extract.\n",
      "  data['Abstract'].fillna(\"\").str.contains(virology_keywords, flags=re.IGNORECASE)\n"
     ]
    },
    {
     "name": "stdout",
     "output_type": "stream",
     "text": [
      "Filtered relevant papers: 1055\n"
     ]
    }
   ],
   "source": [
    "import pandas as pd\n",
    "import re\n",
    "\n",
    "# Load data\n",
    "data = pd.read_csv(r\"C:\\Users\\varun\\Downloads\\collection_with_abstracts.csv\")\n",
    "\n",
    "# Define keywords\n",
    "deep_learning_keywords = r\"\\b(deep learning|neural network|cnn|rnn|lstm|transformer|bert|mlp|gan|autoencoder)\\b\"\n",
    "virology_keywords = r\"\\b(virology|virus|epidemiology|pathogen|covid|sars|influenza|outbreak)\\b\"\n",
    "\n",
    "# Filter data\n",
    "filtered_data = data[\n",
    "    data['Abstract'].fillna(\"\").str.contains(deep_learning_keywords, flags=re.IGNORECASE) &\n",
    "    data['Abstract'].fillna(\"\").str.contains(virology_keywords, flags=re.IGNORECASE)\n",
    "]\n",
    "\n",
    "# Display filtered count\n",
    "print(f\"Filtered relevant papers: {filtered_data.shape[0]}\")\n"
   ]
  },
  {
   "cell_type": "markdown",
   "id": "b6ca6664-4922-424c-9163-52aa2de8e414",
   "metadata": {},
   "source": [
    "Step 2: Classification Based on Heuristic Matching"
   ]
  },
  {
   "cell_type": "code",
   "execution_count": 13,
   "id": "12c1c818-58e6-40a9-bdde-887781939ea0",
   "metadata": {},
   "outputs": [
    {
     "name": "stdout",
     "output_type": "stream",
     "text": [
      "                                                Title Method Classification\n",
      "31  MEFFGRN: Matrix enhancement and feature fusion...       computer vision\n",
      "42  Automated cooling tower detection through deep...                 other\n",
      "43  Multi-detector fusion and Bayesian smoothing f...                 other\n",
      "52  Automatic mapping of high-risk urban areas for...                 other\n",
      "67  Chest CT-based automated vertebral fracture as...       computer vision\n"
     ]
    },
    {
     "name": "stderr",
     "output_type": "stream",
     "text": [
      "C:\\Users\\varun\\AppData\\Local\\Temp\\ipykernel_7708\\437441162.py:17: SettingWithCopyWarning: \n",
      "A value is trying to be set on a copy of a slice from a DataFrame.\n",
      "Try using .loc[row_indexer,col_indexer] = value instead\n",
      "\n",
      "See the caveats in the documentation: https://pandas.pydata.org/pandas-docs/stable/user_guide/indexing.html#returning-a-view-versus-a-copy\n",
      "  filtered_data['Method Classification'] = filtered_data['Abstract'].apply(classify_method)\n"
     ]
    }
   ],
   "source": [
    "# Define method keywords\n",
    "text_mining_keywords = r\"\\b(nlp|natural language processing|text analysis|bert|token)\\b\"\n",
    "computer_vision_keywords = r\"\\b(image processing|cnn|segmentation|CT|MRI|X-ray)\\b\"\n",
    "\n",
    "# Classification function\n",
    "def classify_method(abstract):\n",
    "    if re.search(text_mining_keywords, abstract, flags=re.IGNORECASE) and re.search(computer_vision_keywords, abstract, flags=re.IGNORECASE):\n",
    "        return \"both\"\n",
    "    elif re.search(text_mining_keywords, abstract, flags=re.IGNORECASE):\n",
    "        return \"text mining\"\n",
    "    elif re.search(computer_vision_keywords, abstract, flags=re.IGNORECASE):\n",
    "        return \"computer vision\"\n",
    "    else:\n",
    "        return \"other\"\n",
    "\n",
    "# Apply classification\n",
    "filtered_data['Method Classification'] = filtered_data['Abstract'].apply(classify_method)\n",
    "print(filtered_data[['Title', 'Method Classification']].head())\n"
   ]
  },
  {
   "cell_type": "markdown",
   "id": "b5d76318-efae-41d2-86fd-cdd8a97f25fe",
   "metadata": {},
   "source": [
    "Step 3: Extract Deep Learning Methods with Regular Expressions"
   ]
  },
  {
   "cell_type": "code",
   "execution_count": 16,
   "id": "69135746-6d4d-4f92-afbe-8ef9e8f99e41",
   "metadata": {},
   "outputs": [
    {
     "name": "stdout",
     "output_type": "stream",
     "text": [
      "                                                Title  \\\n",
      "31  MEFFGRN: Matrix enhancement and feature fusion...   \n",
      "42  Automated cooling tower detection through deep...   \n",
      "43  Multi-detector fusion and Bayesian smoothing f...   \n",
      "52  Automatic mapping of high-risk urban areas for...   \n",
      "67  Chest CT-based automated vertebral fracture as...   \n",
      "\n",
      "                      Extracted Methods  \n",
      "31  [CNN, Convolutional Neural Network]  \n",
      "42                                   []  \n",
      "43                                   []  \n",
      "52                                   []  \n",
      "67                                   []  \n"
     ]
    },
    {
     "name": "stderr",
     "output_type": "stream",
     "text": [
      "C:\\Users\\varun\\AppData\\Local\\Temp\\ipykernel_7708\\2637472520.py:15: SettingWithCopyWarning: \n",
      "A value is trying to be set on a copy of a slice from a DataFrame.\n",
      "Try using .loc[row_indexer,col_indexer] = value instead\n",
      "\n",
      "See the caveats in the documentation: https://pandas.pydata.org/pandas-docs/stable/user_guide/indexing.html#returning-a-view-versus-a-copy\n",
      "  filtered_data['Extracted Methods'] = filtered_data['Abstract'].apply(extract_methods)\n"
     ]
    }
   ],
   "source": [
    "# Define common method names\n",
    "methods_keywords = [\n",
    "    \"cnn\", \"convolutional neural network\", \"rnn\", \"lstm\", \"transformer\", \"bert\",\n",
    "    \"gpt\", \"mlp\", \"gan\", \"autoencoder\", \"unet\", \"resnet\", \"vgg\"\n",
    "]\n",
    "\n",
    "# Compile regex\n",
    "methods_pattern = r\"\\b(\" + \"|\".join(methods_keywords) + r\")\\b\"\n",
    "\n",
    "# Extraction function\n",
    "def extract_methods(abstract):\n",
    "    return re.findall(methods_pattern, abstract, flags=re.IGNORECASE)\n",
    "\n",
    "# Apply method extraction\n",
    "filtered_data['Extracted Methods'] = filtered_data['Abstract'].apply(extract_methods)\n",
    "print(filtered_data[['Title', 'Extracted Methods']].head())\n"
   ]
  }
 ],
 "metadata": {
  "kernelspec": {
   "display_name": "Python 3 (ipykernel)",
   "language": "python",
   "name": "python3"
  },
  "language_info": {
   "codemirror_mode": {
    "name": "ipython",
    "version": 3
   },
   "file_extension": ".py",
   "mimetype": "text/x-python",
   "name": "python",
   "nbconvert_exporter": "python",
   "pygments_lexer": "ipython3",
   "version": "3.12.7"
  }
 },
 "nbformat": 4,
 "nbformat_minor": 5
}
